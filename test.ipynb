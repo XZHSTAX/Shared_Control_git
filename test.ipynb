{
 "cells": [
  {
   "cell_type": "code",
   "execution_count": null,
   "metadata": {},
   "outputs": [],
   "source": []
  }
 ],
 "metadata": {
  "interpreter": {
   "hash": "eb0ece46079b43fcd6c28af0403528496c7d9e06a8c8bf90d3b99ea46a50defe"
  },
  "kernelspec": {
   "display_name": "Python 3.8.12 ('BS')",
   "language": "python",
   "name": "python3"
  },
  "language_info": {
   "name": "python",
   "version": "3.8.12"
  },
  "orig_nbformat": 4
 },
 "nbformat": 4,
 "nbformat_minor": 2
}
